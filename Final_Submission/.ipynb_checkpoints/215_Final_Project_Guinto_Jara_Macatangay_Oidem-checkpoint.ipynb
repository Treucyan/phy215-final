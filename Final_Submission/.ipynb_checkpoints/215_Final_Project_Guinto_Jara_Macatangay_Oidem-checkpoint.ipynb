{
 "cells": [
  {
   "cell_type": "markdown",
   "id": "b97ef811",
   "metadata": {},
   "source": [
    "# KR1: DLA Serial Implementation"
   ]
  },
  {
   "cell_type": "markdown",
   "id": "afa941ba",
   "metadata": {},
   "source": [
    "## KR1a: `.jl` functions\n",
    "\n",
    "A set of functions that can generate a single instance of a walker with a random initial position, doing a random walk across the square lattice"
   ]
  },
  {
   "cell_type": "code",
   "execution_count": null,
   "id": "af837ddb",
   "metadata": {},
   "outputs": [],
   "source": []
  },
  {
   "cell_type": "markdown",
   "id": "1969f9ad",
   "metadata": {},
   "source": [
    "## KR1b: Implementation\n",
    "\n",
    "DLA algorithm:\n",
    "- Generate a set of random walkers in the lattice and a seed position.\n",
    "- Create a for-loop where for each interaction, only one walker is released and allowed to walk and attach on the cluster.\n"
   ]
  },
  {
   "cell_type": "code",
   "execution_count": null,
   "id": "40bd31fa",
   "metadata": {},
   "outputs": [],
   "source": []
  },
  {
   "cell_type": "markdown",
   "id": "1005c327",
   "metadata": {},
   "source": [
    "## KR1c: Benchmark"
   ]
  },
  {
   "cell_type": "code",
   "execution_count": null,
   "id": "23367fd4",
   "metadata": {},
   "outputs": [],
   "source": []
  },
  {
   "cell_type": "markdown",
   "id": "47e0a071",
   "metadata": {},
   "source": [
    "# KR2: DLA Parallelised Implementation"
   ]
  },
  {
   "cell_type": "markdown",
   "id": "f1db7a53",
   "metadata": {},
   "source": [
    "## KR2a: `.jl` functions\n",
    "\n",
    "A set of functions that generates multiple random walkers that can simultaneously perform a random walk across the square lattice."
   ]
  },
  {
   "cell_type": "code",
   "execution_count": null,
   "id": "a79e1150",
   "metadata": {},
   "outputs": [],
   "source": []
  },
  {
   "cell_type": "markdown",
   "id": "dc2b6d3d",
   "metadata": {},
   "source": [
    "## KR2b: Implementation\n",
    "\n",
    "Parallel versin of the DLA algorithm by releasing multiple particles in the square lattice:\n",
    "- GPU parallel computing, or\n",
    "- parallel processing of the random walk trajectories"
   ]
  },
  {
   "cell_type": "code",
   "execution_count": null,
   "id": "99345c14",
   "metadata": {},
   "outputs": [],
   "source": []
  },
  {
   "cell_type": "markdown",
   "id": "cc09129a",
   "metadata": {},
   "source": [
    "## KR2c: Benchmark"
   ]
  },
  {
   "cell_type": "code",
   "execution_count": null,
   "id": "f5829ddc",
   "metadata": {},
   "outputs": [],
   "source": []
  },
  {
   "cell_type": "markdown",
   "id": "0d3d9a2b",
   "metadata": {},
   "source": [
    "# KR3: Serial vs Parallelised Implementation\n",
    "\n",
    "Plot of computational time vs number of random walkers (cluster size)."
   ]
  },
  {
   "cell_type": "code",
   "execution_count": null,
   "id": "7f7586f1",
   "metadata": {},
   "outputs": [],
   "source": []
  },
  {
   "cell_type": "markdown",
   "id": "8e214c6a",
   "metadata": {},
   "source": [
    "# KR4: Fractality of Clusters"
   ]
  },
  {
   "cell_type": "markdown",
   "id": "49c5acaf",
   "metadata": {},
   "source": [
    "## KR4a: `.jl` functions\n",
    "\n",
    "Function for calculating the mass function of the cluster."
   ]
  },
  {
   "cell_type": "code",
   "execution_count": null,
   "id": "fa557ac3",
   "metadata": {},
   "outputs": [],
   "source": []
  },
  {
   "cell_type": "markdown",
   "id": "8f3f59ba",
   "metadata": {},
   "source": [
    "## KR4b: Fractal Dimension\n",
    "\n",
    "Estimate the fractal dimension."
   ]
  },
  {
   "cell_type": "code",
   "execution_count": null,
   "id": "8d7088c9",
   "metadata": {},
   "outputs": [],
   "source": []
  }
 ],
 "metadata": {
  "kernelspec": {
   "display_name": "Julia 1.10.3",
   "language": "julia",
   "name": "julia-1.10"
  },
  "language_info": {
   "file_extension": ".jl",
   "mimetype": "application/julia",
   "name": "julia",
   "version": "1.10.3"
  }
 },
 "nbformat": 4,
 "nbformat_minor": 5
}
