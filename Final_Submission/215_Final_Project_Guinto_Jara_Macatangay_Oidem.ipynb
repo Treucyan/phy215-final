{
 "cells": [
  {
   "cell_type": "markdown",
   "id": "c9531e5a",
   "metadata": {},
   "source": [
    "# KR1: DLA Serial Implementation"
   ]
  },
  {
   "cell_type": "markdown",
   "id": "96050ace",
   "metadata": {},
   "source": [
    "## KR1a: `.jl` functions\n",
    "\n",
    "A set of functions that can generate a single instance of a walker with a random initial position, doing a random walk across the square lattice"
   ]
  },
  {
   "cell_type": "code",
   "execution_count": null,
   "id": "e7445b7f",
   "metadata": {},
   "outputs": [],
   "source": []
  },
  {
   "cell_type": "markdown",
   "id": "7269dbfd",
   "metadata": {},
   "source": [
    "## KR1b: Implementation\n",
    "\n",
    "DLA algorithm:\n",
    "- Generate a set of random walkers in the lattice and a seed position.\n",
    "- Create a for-loop where for each interaction, only one walker is released and allowed to walk and attach on the cluster.\n"
   ]
  },
  {
   "cell_type": "code",
   "execution_count": null,
   "id": "f8b2aa37",
   "metadata": {},
   "outputs": [],
   "source": []
  },
  {
   "cell_type": "markdown",
   "id": "a2b85c23",
   "metadata": {},
   "source": [
    "## KR1c: Benchmark"
   ]
  },
  {
   "cell_type": "code",
   "execution_count": null,
   "id": "b4bb6ddb",
   "metadata": {},
   "outputs": [],
   "source": []
  },
  {
   "cell_type": "markdown",
   "id": "fbd99ec4",
   "metadata": {},
   "source": [
    "# KR2: DLA Parallelised Implementation"
   ]
  },
  {
   "cell_type": "markdown",
   "id": "916a861f",
   "metadata": {},
   "source": [
    "## KR2a: `.jl` functions\n",
    "\n",
    "A set of functions that generates multiple random walkers that can simultaneously perform a random walk across the square lattice."
   ]
  },
  {
   "cell_type": "code",
   "execution_count": null,
   "id": "2dc899c0",
   "metadata": {},
   "outputs": [],
   "source": []
  },
  {
   "cell_type": "markdown",
   "id": "0809e81f",
   "metadata": {},
   "source": [
    "## KR2b: Implementation\n",
    "\n",
    "Parallel versin of the DLA algorithm by releasing multiple particles in the square lattice:\n",
    "- GPU parallel computing, or\n",
    "- parallel processing of the random walk trajectories"
   ]
  },
  {
   "cell_type": "code",
   "execution_count": null,
   "id": "0cb7dbf0",
   "metadata": {},
   "outputs": [],
   "source": []
  },
  {
   "cell_type": "markdown",
   "id": "08780e55",
   "metadata": {},
   "source": [
    "## KR2c: Benchmark"
   ]
  },
  {
   "cell_type": "code",
   "execution_count": null,
   "id": "f7ed0fa7",
   "metadata": {},
   "outputs": [],
   "source": []
  },
  {
   "cell_type": "markdown",
   "id": "01b72f1d",
   "metadata": {},
   "source": [
    "# KR3: Serial vs Parallelised Implementation\n",
    "\n",
    "Plot of computational time vs number of random walkers (cluster size)."
   ]
  },
  {
   "cell_type": "code",
   "execution_count": null,
   "id": "8dcbeb41",
   "metadata": {},
   "outputs": [],
   "source": []
  },
  {
   "cell_type": "markdown",
   "id": "1c825a20",
   "metadata": {},
   "source": [
    "# KR4: Fractality of Clusters"
   ]
  },
  {
   "cell_type": "markdown",
   "id": "1fb30911",
   "metadata": {},
   "source": [
    "## KR4a: `.jl` functions\n",
    "\n",
    "Function for calculating the mass function of the cluster."
   ]
  },
  {
   "cell_type": "code",
   "execution_count": null,
   "id": "14f10d68",
   "metadata": {},
   "outputs": [],
   "source": []
  },
  {
   "cell_type": "markdown",
   "id": "dabc988c",
   "metadata": {},
   "source": [
    "## KR4b: Fractal Dimension\n",
    "\n",
    "Estimate the fractal dimension."
   ]
  },
  {
   "cell_type": "code",
   "execution_count": null,
   "id": "eb543869",
   "metadata": {},
   "outputs": [],
   "source": []
  }
 ],
 "metadata": {
  "kernelspec": {
   "display_name": "Julia 1.10.3",
   "language": "julia",
   "name": "julia-1.10"
  },
  "language_info": {
   "file_extension": ".jl",
   "mimetype": "application/julia",
   "name": "julia",
   "version": "1.10.3"
  }
 },
 "nbformat": 4,
 "nbformat_minor": 5
}
