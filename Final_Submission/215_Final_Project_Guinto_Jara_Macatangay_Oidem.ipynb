{
 "cells": [
  {
   "cell_type": "markdown",
   "id": "c9531e5a",
   "metadata": {},
   "source": [
    "# KR1: DLA Serial Implementation"
   ]
  },
  {
   "cell_type": "code",
   "execution_count": 1,
   "id": "67bd6bba",
   "metadata": {},
   "outputs": [
    {
     "data": {
      "text/plain": [
       "Main.fractal_dimension"
      ]
     },
     "execution_count": 1,
     "metadata": {},
     "output_type": "execute_result"
    }
   ],
   "source": [
    "using Plots\n",
    "using BenchmarkTools\n",
    "using DelimitedFiles\n",
    "using Distributions\n",
    "using GLM\n",
    "using DataFrames\n",
    "using Polynomials\n",
    "\n",
    "include(\"modules/serialized_dla_modules.jl\")\n",
    "include(\"modules/time_complexity_module.jl\")\n",
    "include(\"modules/parallelized_DLA.jl\")\n",
    "include(\"modules/fractal_dimension_module.jl\")"
   ]
  },
  {
   "cell_type": "markdown",
   "id": "96050ace",
   "metadata": {},
   "source": [
    "## KR1a: `.jl` functions\n",
    "\n",
    "A set of functions that can generate a single instance of a walker with a random initial position, doing a random walk across the square lattice"
   ]
  },
  {
   "cell_type": "markdown",
   "id": "5d3cbb89",
   "metadata": {},
   "source": [
    "### Serial DLA Algorithm\n",
    "\n",
    "The main function to create a DLA."
   ]
  },
  {
   "cell_type": "code",
   "execution_count": null,
   "id": "743e5e27",
   "metadata": {},
   "outputs": [],
   "source": [
    "? Random_walker.serialized_dla()"
   ]
  },
  {
   "cell_type": "markdown",
   "id": "00a29c49",
   "metadata": {},
   "source": [
    "### Pertinent Functions\n",
    "Functions used in the serial DLA algorithm."
   ]
  },
  {
   "cell_type": "code",
   "execution_count": null,
   "id": "e7445b7f",
   "metadata": {},
   "outputs": [],
   "source": [
    "? Random_walker.initialize_randomwalker()"
   ]
  },
  {
   "cell_type": "code",
   "execution_count": null,
   "id": "38691509",
   "metadata": {},
   "outputs": [],
   "source": [
    "? Random_walker.walker_update_position()"
   ]
  },
  {
   "cell_type": "code",
   "execution_count": null,
   "id": "9fa62d12",
   "metadata": {},
   "outputs": [],
   "source": [
    "? Random_walker.random_walk_generator()"
   ]
  },
  {
   "cell_type": "code",
   "execution_count": null,
   "id": "5f0d67e1",
   "metadata": {},
   "outputs": [],
   "source": [
    "? Random_walker.walker_distance_from_cluster()"
   ]
  },
  {
   "cell_type": "code",
   "execution_count": null,
   "id": "bb4be56e",
   "metadata": {},
   "outputs": [],
   "source": [
    "? Random_walker.cluster_distance_from_origin()"
   ]
  },
  {
   "cell_type": "markdown",
   "id": "7269dbfd",
   "metadata": {},
   "source": [
    "## KR1b: Implementation\n",
    "\n",
    "DLA algorithm:\n",
    "- Generate a set of random walkers in the lattice and a seed position.\n",
    "- Create a for-loop where for each interaction, only one walker is released and allowed to walk and attach on the cluster.\n"
   ]
  },
  {
   "cell_type": "code",
   "execution_count": null,
   "id": "f8b2aa37",
   "metadata": {},
   "outputs": [],
   "source": [
    "particle_number = 1500\n",
    "maximum_radius = 100.0\n",
    "sticking_prob = 1.0\n",
    "\n",
    "@time cluster_aggregate = Random_walker.serialized_dla(particle_number, maximum_radius, sticking_prob);\n",
    "writedlm(\"raw_data/cluster aggregate for p = $sticking_prob.txt\", cluster_aggregate)"
   ]
  },
  {
   "cell_type": "code",
   "execution_count": null,
   "id": "51e74ac2",
   "metadata": {},
   "outputs": [],
   "source": [
    "sticking_prob = 1.0\n",
    "cluster_aggregate = readdlm(\"raw_data/cluster aggregate for p = $sticking_prob.txt\")\n",
    "\n",
    "scatter(cluster_aggregate[1, : ], cluster_aggregate[2, :], xlims = (-70, 65), \n",
    "            ylims = (-65, 55), size = (700, 700), marker = :diamond )\n",
    "\n",
    "savefig(\"image_results/sample cluster aggregate.png\")\n",
    "\n",
    "scatter(cluster_aggregate[1, : ], cluster_aggregate[2, :], xlims = (-70, 65), \n",
    "            ylims = (-65, 55), size = (700, 700), marker = :diamond )"
   ]
  },
  {
   "cell_type": "markdown",
   "id": "a2b85c23",
   "metadata": {},
   "source": [
    "## KR1c: Benchmark\n",
    "\n",
    "Rather than benchmark just the final function `Random_walker.serialized_dla(args)`, we benchmark the pertinent functions it uses."
   ]
  },
  {
   "cell_type": "markdown",
   "id": "9db84d7a",
   "metadata": {},
   "source": [
    "#### Benchmarking for `initialize_randomwalker` function"
   ]
  },
  {
   "cell_type": "code",
   "execution_count": null,
   "id": "2a1d7d29",
   "metadata": {},
   "outputs": [],
   "source": [
    "birth_circle = rand(Uniform(1, 10))\n",
    "\n",
    "@benchmark Random_walker.initialize_randomwalker($birth_circle)"
   ]
  },
  {
   "cell_type": "markdown",
   "id": "704ee5fa",
   "metadata": {},
   "source": [
    "#### Benchmarking for `walker_update_position` function"
   ]
  },
  {
   "cell_type": "code",
   "execution_count": null,
   "id": "ec1dc821",
   "metadata": {},
   "outputs": [],
   "source": [
    "birth_circle = rand(Uniform(1, 10))\n",
    "death_circle = rand(Uniform(10, 15))\n",
    "\n",
    "@benchmark Random_walker.walker_update_position(Random_walker.initialize_randomwalker($birth_circle), $death_circle, $birth_circle)"
   ]
  },
  {
   "cell_type": "markdown",
   "id": "df5df5ed",
   "metadata": {},
   "source": [
    "#### Benchmarking for `random_walk_generator` function"
   ]
  },
  {
   "cell_type": "code",
   "execution_count": null,
   "id": "ad2f2a1b",
   "metadata": {},
   "outputs": [],
   "source": [
    "step_number = 10000\n",
    "death_radius = rand(Uniform(10, 15))\n",
    "birth_radius = rand(Uniform(1, 10))\n",
    "\n",
    "@benchmark Random_walker.random_walk_generator(step_number, $death_radius, $birth_radius)"
   ]
  },
  {
   "cell_type": "markdown",
   "id": "de8f09bb",
   "metadata": {},
   "source": [
    "#### Benchmarking for `walker_distance_from_cluster` function"
   ]
  },
  {
   "cell_type": "code",
   "execution_count": null,
   "id": "7c136659",
   "metadata": {},
   "outputs": [],
   "source": [
    "particle_number = 1500\n",
    "cluster_particle_number = 1490\n",
    "birth_radius = rand(Uniform(0, 20))\n",
    "cluster_aggregate = rand(Uniform(0, 10), (2, particle_number))\n",
    "\n",
    "\n",
    "@benchmark Random_walker.walker_distance_from_cluster($cluster_aggregate, \n",
    "        $Random_walker.initialize_randomwalker($birth_radius), cluster_particle_number)"
   ]
  },
  {
   "cell_type": "markdown",
   "id": "844f89b4",
   "metadata": {},
   "source": [
    "#### Benchmarking for `cluster_distance_from_origin` function"
   ]
  },
  {
   "cell_type": "code",
   "execution_count": null,
   "id": "9ccee48b",
   "metadata": {},
   "outputs": [],
   "source": [
    "particle_number = 1500\n",
    "cluster_particle_number = 1490\n",
    "cluster_aggregate = rand(Uniform(0, 10), (2, particle_number))\n",
    "\n",
    "@benchmark Random_walker.cluster_distance_from_origin($cluster_aggregate, cluster_particle_number)"
   ]
  },
  {
   "cell_type": "markdown",
   "id": "fbd99ec4",
   "metadata": {},
   "source": [
    "# KR2: DLA Parallelised Implementation"
   ]
  },
  {
   "cell_type": "markdown",
   "id": "916a861f",
   "metadata": {},
   "source": [
    "## KR2a: `.jl` functions\n",
    "\n",
    "A set of functions that generates multiple random walkers that can simultaneously perform a random walk across the square lattice."
   ]
  },
  {
   "cell_type": "code",
   "execution_count": null,
   "id": "2dc899c0",
   "metadata": {},
   "outputs": [],
   "source": []
  },
  {
   "cell_type": "markdown",
   "id": "0809e81f",
   "metadata": {},
   "source": [
    "## KR2b: Implementation\n",
    "\n",
    "Parallel versin of the DLA algorithm by releasing multiple particles in the square lattice:\n",
    "- GPU parallel computing, or\n",
    "- parallel processing of the random walk trajectories"
   ]
  },
  {
   "cell_type": "code",
   "execution_count": null,
   "id": "0cb7dbf0",
   "metadata": {},
   "outputs": [],
   "source": []
  },
  {
   "cell_type": "markdown",
   "id": "08780e55",
   "metadata": {},
   "source": [
    "## KR2c: Benchmark"
   ]
  },
  {
   "cell_type": "code",
   "execution_count": null,
   "id": "f7ed0fa7",
   "metadata": {},
   "outputs": [],
   "source": []
  },
  {
   "cell_type": "markdown",
   "id": "01b72f1d",
   "metadata": {},
   "source": [
    "# KR3: Serial vs Parallelised Implementation\n",
    "\n",
    "Plot of computational time vs number of random walkers (cluster size)."
   ]
  },
  {
   "cell_type": "markdown",
   "id": "cab0d908",
   "metadata": {},
   "source": [
    "### Time Complexity of Serial Implementation"
   ]
  },
  {
   "cell_type": "markdown",
   "id": "c850bf8f",
   "metadata": {},
   "source": [
    "Run the following code only if there is no data yet."
   ]
  },
  {
   "cell_type": "code",
   "execution_count": null,
   "id": "284cef31",
   "metadata": {},
   "outputs": [],
   "source": [
    "# Generate array and save\n",
    "# init_particle_number = 5000\n",
    "# final_particle_number = 5000\n",
    "# steps = 500\n",
    "# for i = init_particle_number:steps:final_particle_number\n",
    "#     particle_number = i\n",
    "#     serial_time = time_complexity.run_time_serial(particle_number,100.0,1.0)\n",
    "#     writedlm(\"raw_data/serial_time particle_number = $particle_number.txt\", serial_time)\n",
    "# end"
   ]
  },
  {
   "cell_type": "markdown",
   "id": "e80994cb",
   "metadata": {},
   "source": [
    "All the cells below are run for plotting."
   ]
  },
  {
   "cell_type": "code",
   "execution_count": null,
   "id": "35598d4c",
   "metadata": {},
   "outputs": [],
   "source": [
    "# Compile serial_time array into one\n",
    "serial_run_time = zeros(10,4)\n",
    "init_particle_number = 500\n",
    "final_particle_number = 5000\n",
    "steps = 500\n",
    "for i = init_particle_number:steps:final_particle_number\n",
    "    particle_number = i\n",
    "    serial_time = readdlm(\"raw_data/serial_time particle_number = $particle_number.txt\")\n",
    "    j = Int(i/steps)\n",
    "    serial_run_time[j,:] = serial_time\n",
    "end"
   ]
  },
  {
   "cell_type": "code",
   "execution_count": null,
   "id": "31c7f84b",
   "metadata": {},
   "outputs": [],
   "source": [
    "# Obtain stats array\n",
    "serial_run_time_stats = time_complexity.run_time_stats(serial_run_time)"
   ]
  },
  {
   "cell_type": "code",
   "execution_count": null,
   "id": "e9c78ba9",
   "metadata": {},
   "outputs": [],
   "source": [
    "x_stats = serial_run_time_stats[:,1]\n",
    "y_stats = serial_run_time_stats[:,2]\n",
    "se = serial_run_time_stats[:,3]\n",
    "data = DataFrame(x = x_stats, y = y_stats)\n",
    "model = lm(@formula(y ~ x), data)\n",
    "intercept, slope = coef(model)\n",
    "\n",
    "y_best = intercept .+ slope .* x_stats\n",
    "scatter(x_stats, y_stats, yerror=se, label = \"Data\", \n",
    "    xlabel = \"Particle Number\", ylabel = \"Elapsed Time (s)\", \n",
    "    title = \"Time Complexity (Serial)\")\n",
    "plot!(x_stats, y_best, label = \"Best Fit Line\", lw = 2)"
   ]
  },
  {
   "cell_type": "markdown",
   "id": "eac157fc",
   "metadata": {},
   "source": [
    "### Time Complexity of Parallelised Implementation"
   ]
  },
  {
   "cell_type": "markdown",
   "id": "932bd117",
   "metadata": {},
   "source": [
    "Run the following code only if there is no data yet."
   ]
  },
  {
   "cell_type": "code",
   "execution_count": null,
   "id": "a47099e4",
   "metadata": {},
   "outputs": [],
   "source": [
    "# Generate array and save\n",
    "# init_particle_number = 2000\n",
    "# final_particle_number = 5000\n",
    "# steps = 500\n",
    "# for i = init_particle_number:steps:final_particle_number\n",
    "#     particle_number = i\n",
    "#     parallel_time = time_complexity.run_time_parallel(particle_number,0.8,10000,150,300,1)\n",
    "#     writedlm(\"raw_data/parallel_time particle_number = $particle_number.txt\", parallel_time)\n",
    "# end"
   ]
  },
  {
   "cell_type": "code",
   "execution_count": null,
   "id": "500bf471",
   "metadata": {},
   "outputs": [
    {
     "name": "stdout",
     "output_type": "stream",
     "text": [
      " Mass = 4308, r_B = 149, r_D = 150 "
     ]
    },
    {
     "name": "stderr",
     "output_type": "stream",
     "text": [
      "Excessive output truncated after 524321 bytes."
     ]
    },
    {
     "name": "stdout",
     "output_type": "stream",
     "text": [
      "\r",
      " Mass = 4308, r_B = 149, r_D = 150 \r",
      " Mass = 4308, r_B = 149, r_D = 150 \r",
      " Mass = 4308, r_B = 149, r_D = 150 \r",
      " Mass = 4308, r_B = 149, r_D = 150 \r",
      " Mass = 4308, r_B = 149, r_D = 150 \r",
      " Mass = 4308, r_B = 149, r_D = 150 \r",
      " Mass = 4308, r_B = 149, r_D = 150 \r",
      " Mass = 4308, r_B = 149, r_D = 150 \r",
      " Mass = 4308, r_B = 149, r_D = 150 \r",
      " Mass = 4308, r_B = 149, r_D = 150 \r",
      " Mass = 4308, r_B = 149, r_D = 150 \r",
      " Mass = 4308, r_B = 149, r_D = 150 \r",
      " Mass = 4308, r_B = 149, r_D = 150 \r",
      " Mass = 4308, r_B = 149, r_D = 150 \r",
      " Mass = 4308, r_B = 149, r_D = 150 \r",
      " Mass = 4308, r_B = 149, r_D = 150 \r",
      " Mass = 4308, r_B = 149, r_D = 150 \r",
      " Mass = 4308, r_B = 149, r_D = 150 \r",
      " Mass = 4308, r_B = 149, r_D = 150 \r",
      " Mass = 4308, r_B = 149, r_D = 150 "
     ]
    }
   ],
   "source": [
    "time1 = @elapsed DLA_parallel.run_parallel_DLA(5000,0.8,10000,150,300,1)"
   ]
  },
  {
   "cell_type": "code",
   "execution_count": null,
   "id": "c7df3eea",
   "metadata": {},
   "outputs": [],
   "source": [
    "time2 = @elapsed DLA_parallel.run_parallel_DLA(5000,0.8,10000,150,300,1)"
   ]
  },
  {
   "cell_type": "code",
   "execution_count": null,
   "id": "5166271f",
   "metadata": {},
   "outputs": [],
   "source": [
    "time3 = @elapsed DLA_parallel.run_parallel_DLA(5000,0.8,10000,150,300,1)"
   ]
  },
  {
   "cell_type": "code",
   "execution_count": null,
   "id": "87589d95",
   "metadata": {},
   "outputs": [],
   "source": [
    "parallel_time = [5000 time1 time2 time3]\n",
    "writedlm(\"raw_data/parallel_time particle_number = 5000.txt\", parallel_time)"
   ]
  },
  {
   "cell_type": "markdown",
   "id": "f5ece2df",
   "metadata": {},
   "source": [
    "All the cells below are run for plotting."
   ]
  },
  {
   "cell_type": "code",
   "execution_count": null,
   "id": "8a84ef9c",
   "metadata": {},
   "outputs": [],
   "source": [
    "# Compile serial_time array into one\n",
    "parallel_run_time = zeros(10,4)\n",
    "init_particle_number = 500\n",
    "final_particle_number = 5000\n",
    "steps = 500\n",
    "for i = init_particle_number:steps:final_particle_number\n",
    "    particle_number = i\n",
    "    parallel_time = readdlm(\"raw_data/parallel_time particle_number = $particle_number.txt\")\n",
    "    j = Int(i/steps)\n",
    "    parallel_run_time[j,:] = parallel_time\n",
    "end"
   ]
  },
  {
   "cell_type": "code",
   "execution_count": null,
   "id": "2b806c89",
   "metadata": {},
   "outputs": [],
   "source": [
    "# Obtain stats array\n",
    "parallel_run_time_stats = time_complexity.run_time_stats(parallel_run_time)"
   ]
  },
  {
   "cell_type": "code",
   "execution_count": null,
   "id": "8d80f72e",
   "metadata": {},
   "outputs": [],
   "source": [
    "x_stats = parallel_run_time_stats[:,1]\n",
    "y_stats = parallel_run_time_stats[:,2]\n",
    "se = parallel_run_time_stats[:,3]\n",
    "data = DataFrame(x = x_stats, y = y_stats)\n",
    "model = lm(@formula(y ~ x), data)\n",
    "intercept, slope = coef(model)\n",
    "\n",
    "y_best = intercept .+ slope .* x_stats\n",
    "scatter(x_stats, y_stats, yerror=se, label = \"Data\", \n",
    "    xlabel = \"Particle Number\", ylabel = \"Elapsed Time (s)\", \n",
    "    title = \"Time Complexity (Parallel)\")\n",
    "plot!(x_stats, y_best, label = \"Best Fit Line\", lw = 2)"
   ]
  },
  {
   "cell_type": "markdown",
   "id": "f7b08c38",
   "metadata": {},
   "source": [
    "### Time Complexity Log-Log Plot (Serial vs Parallelised)"
   ]
  },
  {
   "cell_type": "code",
   "execution_count": null,
   "id": "cf40b3ce",
   "metadata": {},
   "outputs": [],
   "source": []
  },
  {
   "cell_type": "markdown",
   "id": "1c825a20",
   "metadata": {},
   "source": [
    "# KR4: Fractality of Clusters"
   ]
  },
  {
   "cell_type": "markdown",
   "id": "1fb30911",
   "metadata": {},
   "source": [
    "## KR4a: `.jl` functions\n",
    "\n",
    "Function for calculating the mass function of the cluster."
   ]
  },
  {
   "cell_type": "code",
   "execution_count": null,
   "id": "14f10d68",
   "metadata": {},
   "outputs": [],
   "source": [
    "? fractal_dimension.mass_per_radius()"
   ]
  },
  {
   "cell_type": "markdown",
   "id": "dabc988c",
   "metadata": {},
   "source": [
    "## KR4b: Fractal Dimension\n",
    "\n",
    "Estimate the fractal dimension."
   ]
  },
  {
   "cell_type": "code",
   "execution_count": null,
   "id": "eb543869",
   "metadata": {},
   "outputs": [],
   "source": [
    "matrix = fractal_dimension.mass_per_radius(cluster_aggregate)\n",
    "x = log.(matrix[:, 1])\n",
    "y = log.(matrix[:, 2])\n",
    "\n",
    "data = DataFrame(x = x, y = y)\n",
    "model = lm(@formula(y ~ x), data)\n",
    "intercept, slope = coef(model)\n",
    "\n",
    "scatter(x, y, label = \"Data\", xlabel = \"ln(r)\", ylabel = \"ln(M(r))\", title = \"p = $sticking_prob\")\n",
    "plot!(x, intercept .+ slope .* x, label = \"Best Fit Line\", lw = 2)\n",
    "\n",
    "savefig(\"image_results/log-log plot p = $sticking_prob.png\")\n",
    "\n",
    "scatter(x, y, label = \"Data\", xlabel = \"ln(r)\", ylabel = \"ln(M(r))\", title = \"p = $sticking_prob\")\n",
    "plot!(x, intercept .+ slope .* x, label = \"Best Fit Line\", lw = 2)"
   ]
  },
  {
   "cell_type": "code",
   "execution_count": null,
   "id": "977948fc",
   "metadata": {},
   "outputs": [],
   "source": [
    "println(\"The slope (fractal dimension) is equal to $slope\")"
   ]
  }
 ],
 "metadata": {
  "kernelspec": {
   "display_name": "Julia 1.10.3",
   "language": "julia",
   "name": "julia-1.10"
  },
  "language_info": {
   "file_extension": ".jl",
   "mimetype": "application/julia",
   "name": "julia",
   "version": "1.10.3"
  }
 },
 "nbformat": 4,
 "nbformat_minor": 5
}
